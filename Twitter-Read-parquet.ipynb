{
 "cells": [
  {
   "cell_type": "code",
   "execution_count": 1,
   "id": "1b800b2f",
   "metadata": {},
   "outputs": [],
   "source": [
    "from pyspark.sql import SparkSession\n",
    "from pyspark.sql.types import StructType, StructField, StringType, LongType, BooleanType, IntegerType, DoubleType, TimestampType\n",
    "\n",
    "\n",
    "spark = SparkSession \\\n",
    "    .builder \\\n",
    "    .appName(\"Twitter-Streaming\") \\\n",
    "    .getOrCreate()"
   ]
  },
  {
   "cell_type": "code",
   "execution_count": 2,
   "id": "c5e434d1",
   "metadata": {},
   "outputs": [],
   "source": [
    "schema_twitter = StructType(\n",
    "        [StructField(\"user_id\",LongType(),True),\n",
    "        StructField(\"user_name\",StringType(),True),\n",
    "        StructField(\"verified\",BooleanType(),True),\n",
    "        StructField(\"followers_count\",IntegerType(),True),\n",
    "        StructField(\"friends_count\",IntegerType(),True),\n",
    "        StructField(\"user_created_at\",TimestampType(),True),\n",
    "        StructField(\"tweet_id\",LongType(),True),\n",
    "        StructField(\"tweet_message\",StringType(),True),\n",
    "        StructField(\"tweet_created_at\",TimestampType(),True),\n",
    "        ])\n",
    "\n",
    "\n",
    "parquetFile = spark \\\n",
    "            .readStream \\\n",
    "            .format(\"parquet\") \\\n",
    "            .schema(schema_twitter) \\\n",
    "            .load(\"twitter.parquet\")"
   ]
  },
  {
   "cell_type": "code",
   "execution_count": 3,
   "id": "ed3d2509",
   "metadata": {},
   "outputs": [],
   "source": [
    "twitter_msg = parquetFile.na.drop(subset=[\"tweet_message\"])"
   ]
  },
  {
   "cell_type": "code",
   "execution_count": 4,
   "id": "adb0d02f",
   "metadata": {},
   "outputs": [],
   "source": [
    "\n",
    "# Output to memory to count rows\n",
    "queryStreamMem = parquetFile \\\n",
    "                 .writeStream \\\n",
    "                 .format(\"memory\") \\\n",
    "                 .queryName(\"tweets_count\") \\\n",
    "                 .outputMode(\"update\") \\\n",
    "                 .start()"
   ]
  },
  {
   "cell_type": "code",
   "execution_count": 17,
   "id": "2c1dcf91",
   "metadata": {},
   "outputs": [
    {
     "name": "stdout",
     "output_type": "stream",
     "text": [
      "+----+\n",
      "| qty|\n",
      "+----+\n",
      "|6886|\n",
      "+----+\n",
      "\n"
     ]
    }
   ],
   "source": [
    "spark.sql(\"select count(1) as qty from tweets_count\").show()"
   ]
  },
  {
   "cell_type": "code",
   "execution_count": null,
   "id": "6b84e7e5",
   "metadata": {},
   "outputs": [],
   "source": [
    "from time import sleep\n",
    "from IPython.display import clear_output\n",
    "\n",
    "# Count rows every 5 seconds while stream is active\n",
    "try:\n",
    "    i=1\n",
    "    # While stream is active, print count\n",
    "    while len(spark.streams.active) > 0:\n",
    "        \n",
    "        # Clear output\n",
    "        clear_output(wait=True)\n",
    "        print(\"Run:{}\".format(i))\n",
    "        \n",
    "        lst_queries = []\n",
    "        for s in spark.streams.active:\n",
    "            lst_queries.append(s.name)\n",
    "\n",
    "        # Verify if wiki_changes_count query is active before count\n",
    "        if \"tweets_count\" in lst_queries:\n",
    "            # Count number of events\n",
    "            spark.sql(\"select count(1) as qty from tweets_count\").show()\n",
    "        else:\n",
    "            print(\"'tweets_count' query not found.\")\n",
    "\n",
    "        sleep(5)\n",
    "        i=i+1\n",
    "        \n",
    "except KeyboardInterrupt:\n",
    "    # Stop Query Stream\n",
    "    queryStreamMem.stop()\n",
    "    \n",
    "    print(\"stream process interrupted\")"
   ]
  },
  {
   "cell_type": "code",
   "execution_count": null,
   "id": "dc5a6b71",
   "metadata": {},
   "outputs": [],
   "source": []
  }
 ],
 "metadata": {
  "kernelspec": {
   "display_name": "Python 3",
   "language": "python",
   "name": "python3"
  },
  "language_info": {
   "codemirror_mode": {
    "name": "ipython",
    "version": 3
   },
   "file_extension": ".py",
   "mimetype": "text/x-python",
   "name": "python",
   "nbconvert_exporter": "python",
   "pygments_lexer": "ipython3",
   "version": "3.8.5"
  }
 },
 "nbformat": 4,
 "nbformat_minor": 5
}
